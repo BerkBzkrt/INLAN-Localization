{
 "cells": [
  {
   "cell_type": "code",
   "execution_count": 66,
   "metadata": {},
   "outputs": [],
   "source": [
    "import numpy as np\n",
    "import pandas as pd"
   ]
  },
  {
   "cell_type": "code",
   "execution_count": 67,
   "metadata": {},
   "outputs": [],
   "source": [
    "line0 = pd.read_csv('line0_apr25_loc.csv')\n",
    "line1 = pd.read_csv('line1_apr25_loc.csv')\n",
    "line2 = pd.read_csv('line2_apr26_loc.csv')\n",
    "line3 = pd.read_csv('line3_apr26_loc.csv')\n",
    "line4 = pd.read_csv('line4_apr26_loc.csv')\n",
    "line5 = pd.read_csv('line5_apr25_loc.csv')\n",
    "line6 = pd.read_csv('line6_apr25_loc.csv')\n",
    "noise_data = pd.read_csv('noise_floor_apr26_loc.csv')\n",
    "data_list = [line0,line1,line2,line3,line4,line5,line6]\n",
    "data = pd.concat(data_list)\n",
    "data.drop('Unnamed: 0', inplace=True, axis=1)\n",
    "m,n = data.shape"
   ]
  },
  {
   "cell_type": "code",
   "execution_count": 48,
   "metadata": {},
   "outputs": [
    {
     "data": {
      "text/plain": [
       "(1711, 25)"
      ]
     },
     "execution_count": 48,
     "metadata": {},
     "output_type": "execute_result"
    }
   ],
   "source": [
    "noise_array = noise_data.to_numpy()\n",
    "noise_array.shape\n",
    "noise_array\n"
   ]
  },
  {
   "cell_type": "code",
   "execution_count": 70,
   "metadata": {},
   "outputs": [],
   "source": [
    "noise_data.head()\n",
    "avg_data = data[['Py0','Pz0','Py1','Pz1','Py2','Pz2','Py3','Pz3']].mean()\n",
    "avg_noise = noise_data[['Py0','Pz0','Py1','Pz1','Py2','Pz2','Py3','Pz3']].mean()"
   ]
  },
  {
   "cell_type": "code",
   "execution_count": 69,
   "metadata": {},
   "outputs": [
    {
     "data": {
      "text/plain": [
       "Py0   -77.309219\n",
       "Pz0   -72.170621\n",
       "Py1   -81.054689\n",
       "Pz1   -78.056030\n",
       "Py2   -65.514609\n",
       "Pz2   -69.265366\n",
       "Py3   -74.513827\n",
       "Pz3   -77.324181\n",
       "dtype: float64"
      ]
     },
     "execution_count": 69,
     "metadata": {},
     "output_type": "execute_result"
    }
   ],
   "source": [
    "avg_data"
   ]
  },
  {
   "cell_type": "code",
   "execution_count": 65,
   "metadata": {},
   "outputs": [
    {
     "data": {
      "text/plain": [
       "Py0   -98.818685\n",
       "Pz0   -86.015926\n",
       "Py1   -93.639735\n",
       "Pz1   -86.898200\n",
       "Py2   -75.176623\n",
       "Pz2   -78.080939\n",
       "Py3   -75.254316\n",
       "Pz3   -83.030902\n",
       "dtype: float64"
      ]
     },
     "execution_count": 65,
     "metadata": {},
     "output_type": "execute_result"
    }
   ],
   "source": [
    "avg_noise"
   ]
  },
  {
   "cell_type": "code",
   "execution_count": 31,
   "metadata": {},
   "outputs": [],
   "source": [
    "data.head()\n",
    "data.to_csv('data.csv',index = False)"
   ]
  }
 ],
 "metadata": {
  "kernelspec": {
   "display_name": "Python 3.11.0 64-bit",
   "language": "python",
   "name": "python3"
  },
  "language_info": {
   "codemirror_mode": {
    "name": "ipython",
    "version": 3
   },
   "file_extension": ".py",
   "mimetype": "text/x-python",
   "name": "python",
   "nbconvert_exporter": "python",
   "pygments_lexer": "ipython3",
   "version": "3.11.0"
  },
  "orig_nbformat": 4,
  "vscode": {
   "interpreter": {
    "hash": "1a1af0ee75eeea9e2e1ee996c87e7a2b11a0bebd85af04bb136d915cefc0abce"
   }
  }
 },
 "nbformat": 4,
 "nbformat_minor": 2
}
