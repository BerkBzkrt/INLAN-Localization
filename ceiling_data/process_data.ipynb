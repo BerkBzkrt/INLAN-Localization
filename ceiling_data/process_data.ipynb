{
 "cells": [
  {
   "cell_type": "code",
   "execution_count": 39,
   "metadata": {},
   "outputs": [],
   "source": [
    "import numpy as np\n",
    "import pandas as pd"
   ]
  },
  {
   "cell_type": "markdown",
   "metadata": {},
   "source": [
    "Collect the data from each line in a single csv"
   ]
  },
  {
   "cell_type": "code",
   "execution_count": 40,
   "metadata": {},
   "outputs": [],
   "source": [
    "line0 = pd.read_csv('line0_apr25_loc.csv')\n",
    "line1 = pd.read_csv('line1_apr25_loc.csv')\n",
    "line2 = pd.read_csv('line2_apr26_loc.csv')\n",
    "line3 = pd.read_csv('line3_apr26_loc.csv')\n",
    "line4 = pd.read_csv('line4_apr26_loc.csv')\n",
    "line5 = pd.read_csv('line5_apr25_loc.csv')\n",
    "line6 = pd.read_csv('line6_apr25_loc.csv')\n",
    "noise_data = pd.read_csv('noise_floor_apr26_loc.csv') #measured without a tag\n",
    "data_list = [line0,line1,line2,line3,line4,line5,line6]\n",
    "RSS_data = pd.concat(data_list)\n",
    "RSS_data.drop('Unnamed: 0', inplace=True, axis=1) #drop the index column\n",
    "m,n = RSS_data.shape"
   ]
  },
  {
   "cell_type": "markdown",
   "metadata": {},
   "source": [
    "Find the mean of the noise floor for each channel "
   ]
  },
  {
   "cell_type": "code",
   "execution_count": 17,
   "metadata": {},
   "outputs": [
    {
     "data": {
      "text/html": [
       "<div>\n",
       "<style scoped>\n",
       "    .dataframe tbody tr th:only-of-type {\n",
       "        vertical-align: middle;\n",
       "    }\n",
       "\n",
       "    .dataframe tbody tr th {\n",
       "        vertical-align: top;\n",
       "    }\n",
       "\n",
       "    .dataframe thead th {\n",
       "        text-align: right;\n",
       "    }\n",
       "</style>\n",
       "<table border=\"1\" class=\"dataframe\">\n",
       "  <thead>\n",
       "    <tr style=\"text-align: right;\">\n",
       "      <th></th>\n",
       "      <th>Py0</th>\n",
       "      <th>Pz0</th>\n",
       "      <th>Py1</th>\n",
       "      <th>Pz1</th>\n",
       "      <th>Py2</th>\n",
       "      <th>Pz2</th>\n",
       "      <th>Py3</th>\n",
       "      <th>Pz3</th>\n",
       "    </tr>\n",
       "  </thead>\n",
       "  <tbody>\n",
       "    <tr>\n",
       "      <th>0</th>\n",
       "      <td>-99.72743</td>\n",
       "      <td>-85.60629</td>\n",
       "      <td>-94.62137</td>\n",
       "      <td>-87.21571</td>\n",
       "      <td>-75.49642</td>\n",
       "      <td>-77.93474</td>\n",
       "      <td>-75.18796</td>\n",
       "      <td>-82.86136</td>\n",
       "    </tr>\n",
       "    <tr>\n",
       "      <th>1</th>\n",
       "      <td>-97.68116</td>\n",
       "      <td>-86.15174</td>\n",
       "      <td>-94.78320</td>\n",
       "      <td>-87.00515</td>\n",
       "      <td>-74.99036</td>\n",
       "      <td>-78.20930</td>\n",
       "      <td>-75.03316</td>\n",
       "      <td>-84.78611</td>\n",
       "    </tr>\n",
       "    <tr>\n",
       "      <th>2</th>\n",
       "      <td>-95.71858</td>\n",
       "      <td>-86.09019</td>\n",
       "      <td>-91.93809</td>\n",
       "      <td>-87.09985</td>\n",
       "      <td>-74.52148</td>\n",
       "      <td>-77.64372</td>\n",
       "      <td>-75.03088</td>\n",
       "      <td>-84.00237</td>\n",
       "    </tr>\n",
       "    <tr>\n",
       "      <th>3</th>\n",
       "      <td>-96.56175</td>\n",
       "      <td>-85.99899</td>\n",
       "      <td>-92.62894</td>\n",
       "      <td>-87.12193</td>\n",
       "      <td>-74.90018</td>\n",
       "      <td>-78.11917</td>\n",
       "      <td>-75.27127</td>\n",
       "      <td>-83.18758</td>\n",
       "    </tr>\n",
       "    <tr>\n",
       "      <th>4</th>\n",
       "      <td>-97.27094</td>\n",
       "      <td>-86.38935</td>\n",
       "      <td>-93.03093</td>\n",
       "      <td>-86.93593</td>\n",
       "      <td>-75.02506</td>\n",
       "      <td>-77.74480</td>\n",
       "      <td>-75.41042</td>\n",
       "      <td>-83.16035</td>\n",
       "    </tr>\n",
       "  </tbody>\n",
       "</table>\n",
       "</div>"
      ],
      "text/plain": [
       "        Py0       Pz0       Py1       Pz1       Py2       Pz2       Py3  \\\n",
       "0 -99.72743 -85.60629 -94.62137 -87.21571 -75.49642 -77.93474 -75.18796   \n",
       "1 -97.68116 -86.15174 -94.78320 -87.00515 -74.99036 -78.20930 -75.03316   \n",
       "2 -95.71858 -86.09019 -91.93809 -87.09985 -74.52148 -77.64372 -75.03088   \n",
       "3 -96.56175 -85.99899 -92.62894 -87.12193 -74.90018 -78.11917 -75.27127   \n",
       "4 -97.27094 -86.38935 -93.03093 -86.93593 -75.02506 -77.74480 -75.41042   \n",
       "\n",
       "        Pz3  \n",
       "0 -82.86136  \n",
       "1 -84.78611  \n",
       "2 -84.00237  \n",
       "3 -83.18758  \n",
       "4 -83.16035  "
      ]
     },
     "execution_count": 17,
     "metadata": {},
     "output_type": "execute_result"
    }
   ],
   "source": [
    "noise_data = noise_data[['Py0','Pz0','Py1','Pz1','Py2','Pz2','Py3','Pz3']] #only need the RSS readings\n",
    "noise_data.head()"
   ]
  },
  {
   "cell_type": "code",
   "execution_count": 37,
   "metadata": {},
   "outputs": [],
   "source": [
    "avg_noise = noise_data[['Py0','Pz0','Py1','Pz1','Py2','Pz2','Py3','Pz3']].mean(axis = 0).reset_index()\n",
    "avg_noise.to_csv('avg_noise.csv', index = False)\n",
    "avg_noise.head()"
   ]
  },
  {
   "cell_type": "markdown",
   "metadata": {},
   "source": [
    "Write the combined data from all lines to a new csv"
   ]
  },
  {
   "cell_type": "code",
   "execution_count": 42,
   "metadata": {},
   "outputs": [],
   "source": [
    "RSS_data.to_csv('RSS_data.csv',index = False)\n",
    "RSS_data.head()"
   ]
  }
 ],
 "metadata": {
  "kernelspec": {
   "display_name": "Python 3.11.0 64-bit",
   "language": "python",
   "name": "python3"
  },
  "language_info": {
   "codemirror_mode": {
    "name": "ipython",
    "version": 3
   },
   "file_extension": ".py",
   "mimetype": "text/x-python",
   "name": "python",
   "nbconvert_exporter": "python",
   "pygments_lexer": "ipython3",
   "version": "3.11.0"
  },
  "orig_nbformat": 4,
  "vscode": {
   "interpreter": {
    "hash": "1a1af0ee75eeea9e2e1ee996c87e7a2b11a0bebd85af04bb136d915cefc0abce"
   }
  }
 },
 "nbformat": 4,
 "nbformat_minor": 2
}
